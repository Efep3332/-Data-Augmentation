{
 "cells": [
  {
   "cell_type": "code",
   "execution_count": 1,
   "id": "039bda1e",
   "metadata": {},
   "outputs": [
    {
     "name": "stdout",
     "output_type": "stream",
     "text": [
      "WARNING:tensorflow:From C:\\Users\\Public\\Efendim\\Lib\\site-packages\\keras\\src\\losses.py:2976: The name tf.losses.sparse_softmax_cross_entropy is deprecated. Please use tf.compat.v1.losses.sparse_softmax_cross_entropy instead.\n",
      "\n",
      "Brain Tumor Dataset:\n",
      "Total images: 1000\n",
      "Distribution of labels: {1: 1000}\n",
      "\n",
      "Kidney Tumor Dataset:\n",
      "Total images: 1000\n",
      "Distribution of labels: {0: 1000}\n"
     ]
    }
   ],
   "source": [
    "import os\n",
    "import cv2\n",
    "import numpy as np\n",
    "import pandas as pd\n",
    "from keras.preprocessing.image import ImageDataGenerator\n",
    "\n",
    "# Function to load images from a directory\n",
    "def load_images(directory, target_size=(224, 224)):  \n",
    "    images = []\n",
    "    labels = []\n",
    "    for filename in os.listdir(directory):\n",
    "        if filename.endswith(\".jpg\"):\n",
    "            img_path = os.path.join(directory, filename)\n",
    "            \n",
    "            # Read and resize the image\n",
    "            img = cv2.imread(img_path)\n",
    "            img = cv2.resize(img, target_size)\n",
    "            \n",
    "            # Preprocess the image if needed\n",
    "            # e.g., img = cv2.cvtColor(img, cv2.COLOR_BGR2GRAY)\n",
    "            \n",
    "            images.append(img)\n",
    "            labels.append(1 if \"brain\" in directory.lower() else 0)  # Assuming \"brain\" in the path indicates brain images\n",
    "    return np.array(images), np.array(labels)\n",
    "\n",
    "# Load brain tumor dataset\n",
    "brain_images, brain_labels = load_images(\"C:/Users/net pc/Desktop/THESIS PROJECT/AUGMENTED/brain_tumor\")\n",
    "\n",
    "# Load kidney tumor dataset\n",
    "kidney_images, kidney_labels = load_images(\"C:/Users/net pc/Desktop/THESIS PROJECT/AUGMENTED/kidney_tumor\")\n",
    "\n",
    "# Display demographic distribution before augmentation\n",
    "print(\"Brain Tumor Dataset:\")\n",
    "print(\"Total images:\", len(brain_images))\n",
    "print(\"Distribution of labels:\", dict(zip(*np.unique(brain_labels, return_counts=True))))\n",
    "\n",
    "print(\"\\nKidney Tumor Dataset:\")\n",
    "print(\"Total images:\", len(kidney_images))\n",
    "print(\"Distribution of labels:\", dict(zip(*np.unique(kidney_labels, return_counts=True))))\n",
    "\n"
   ]
  },
  {
   "cell_type": "code",
   "execution_count": 2,
   "id": "2b6ccf69",
   "metadata": {},
   "outputs": [
    {
     "name": "stdout",
     "output_type": "stream",
     "text": [
      "       Dataset  Total Images  Distribution of Labels\n",
      "1  Brain Tumor          1000                    1000\n",
      "        Dataset  Total Images  Distribution of Labels\n",
      "0  Kidney Tumor          1000                    1000\n"
     ]
    }
   ],
   "source": [
    "# Display demographic distribution\n",
    "brain_data = {'Dataset': 'Brain Tumor', 'Total Images': len(brain_images),\n",
    "              'Distribution of Labels': dict(zip(*np.unique(brain_labels, return_counts=True)))}\n",
    "\n",
    "brain_df = pd.DataFrame(brain_data)\n",
    "print(brain_df)\n",
    "\n",
    "# Display demographic distribution\n",
    "kidney_data = {'Dataset': 'Kidney Tumor', 'Total Images': len(kidney_images),\n",
    "               'Distribution of Labels': dict(zip(*np.unique(kidney_labels, return_counts=True)))}\n",
    "\n",
    "kidney_df = pd.DataFrame(kidney_data)\n",
    "print(kidney_df)\n",
    "\n"
   ]
  },
  {
   "cell_type": "code",
   "execution_count": 3,
   "id": "4f359a9e",
   "metadata": {},
   "outputs": [
    {
     "name": "stdout",
     "output_type": "stream",
     "text": [
      "\n",
      "Demographic Distribution after Augmentation:\n",
      "Augmented Brain Tumor Dataset:\n",
      "Total images: 20000\n",
      "Distribution of labels: {1: 20000}\n",
      "\n",
      "Augmented Kidney Tumor Dataset:\n",
      "Total images: 20000\n",
      "Distribution of labels: {0: 20000}\n"
     ]
    }
   ],
   "source": [
    "# Data Augmentation\n",
    "def augment_data(images, labels, target_count=20000):\n",
    "    datagen = ImageDataGenerator(\n",
    "        rotation_range=20,\n",
    "        width_shift_range=0.2,\n",
    "        height_shift_range=0.2,\n",
    "        shear_range=0.2,\n",
    "        zoom_range=0.2,\n",
    "        horizontal_flip=True,\n",
    "        vertical_flip=True,\n",
    "        fill_mode='nearest'\n",
    "    )\n",
    "\n",
    "    augmented_images = []\n",
    "    augmented_labels = []\n",
    "\n",
    "    while len(augmented_images) < target_count:\n",
    "        for i in range(len(images)):\n",
    "            img = images[i]\n",
    "            label = labels[i]\n",
    "\n",
    "            img = img.reshape((1,) + img.shape)  # Reshape to (1, height, width, channels) for the flow method\n",
    "\n",
    "            for _ in datagen.flow(img, batch_size=1):\n",
    "                augmented_images.append(_[0])\n",
    "                augmented_labels.append(label)\n",
    "                break\n",
    "\n",
    "    return np.array(augmented_images), np.array(augmented_labels)\n",
    "\n",
    "# Augment brain tumor dataset to 20,000\n",
    "augmented_brain_images, augmented_brain_labels = augment_data(brain_images, brain_labels, target_count=20000)\n",
    "\n",
    "# Augment kidney tumor dataset to 20,000\n",
    "augmented_kidney_images, augmented_kidney_labels = augment_data(kidney_images, kidney_labels, target_count=20000)\n",
    "\n",
    "# Save augmented images to new folders\n",
    "output_brain_folder = \"C:/Users/net pc/Desktop/THESIS PROJECT/AUGMENTED/brain_tumor_augmented\"\n",
    "output_kidney_folder = \"C:/Users/net pc/Desktop/THESIS PROJECT/AUGMENTED/kidney_tumor_augmented\"\n",
    "\n",
    "os.makedirs(output_brain_folder, exist_ok=True)\n",
    "os.makedirs(output_kidney_folder, exist_ok=True)\n",
    "\n",
    "for i in range(len(augmented_brain_images)):\n",
    "    cv2.imwrite(os.path.join(output_brain_folder, f\"augmented_brain_{i}.jpg\"), augmented_brain_images[i])\n",
    "\n",
    "for i in range(len(augmented_kidney_images)):\n",
    "    cv2.imwrite(os.path.join(output_kidney_folder, f\"augmented_kidney_{i}.jpg\"), augmented_kidney_images[i])\n",
    "\n",
    "# Display demographic distribution after augmentation\n",
    "print(\"\\nDemographic Distribution after Augmentation:\")\n",
    "print(\"Augmented Brain Tumor Dataset:\")\n",
    "print(\"Total images:\", len(augmented_brain_images))\n",
    "print(\"Distribution of labels:\", dict(zip(*np.unique(augmented_brain_labels, return_counts=True))))\n",
    "\n",
    "print(\"\\nAugmented Kidney Tumor Dataset:\")\n",
    "print(\"Total images:\", len(augmented_kidney_images))\n",
    "print(\"Distribution of labels:\", dict(zip(*np.unique(augmented_kidney_labels, return_counts=True))))\n"
   ]
  },
  {
   "cell_type": "code",
   "execution_count": null,
   "id": "21fd4531",
   "metadata": {},
   "outputs": [],
   "source": []
  },
  {
   "cell_type": "code",
   "execution_count": null,
   "id": "b947cba1",
   "metadata": {},
   "outputs": [],
   "source": []
  },
  {
   "cell_type": "code",
   "execution_count": null,
   "id": "6f683807",
   "metadata": {},
   "outputs": [],
   "source": []
  }
 ],
 "metadata": {
  "kernelspec": {
   "display_name": "Python 3 (ipykernel)",
   "language": "python",
   "name": "python3"
  },
  "language_info": {
   "codemirror_mode": {
    "name": "ipython",
    "version": 3
   },
   "file_extension": ".py",
   "mimetype": "text/x-python",
   "name": "python",
   "nbconvert_exporter": "python",
   "pygments_lexer": "ipython3",
   "version": "3.11.5"
  }
 },
 "nbformat": 4,
 "nbformat_minor": 5
}
